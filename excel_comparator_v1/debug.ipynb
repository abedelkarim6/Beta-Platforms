{
 "cells": [
  {
   "cell_type": "code",
   "execution_count": 44,
   "id": "c9ec0e0e",
   "metadata": {},
   "outputs": [],
   "source": [
    "import re\n",
    "import pandas as pd\n",
    "from fuzzywuzzy import fuzz\n",
    "\n",
    "# ===================================================\n",
    "# Cleaning Tools\n",
    "# ===================================================\n",
    "counter1 = 0\n",
    "counter2 = 0\n",
    "\n",
    "\n",
    "def split_dataframe(df):\n",
    "    \"\"\"\n",
    "    Splits a DataFrame with 4 columns into two DataFrames each containing\n",
    "    sender name and amount.\n",
    "    Assumes columns are ordered as: sender_name_1, amount_1, sender_name_2, amount_2.\n",
    "    \"\"\"\n",
    "    try:\n",
    "        df = df.dropna(axis=1, how=\"all\")\n",
    "        df = df.dropna(how=\"all\")\n",
    "\n",
    "        if len(df.columns) == 4 or len(df.columns) == 5:\n",
    "            df = df.iloc[:, :4]\n",
    "            df.columns = [\"sender_name_1\", \"amount_1\", \"sender_name_2\", \"amount_2\"]\n",
    "            df1 = df[[\"sender_name_1\", \"amount_1\"]].rename(\n",
    "                columns={\"sender_name_1\": \"sender_name\", \"amount_1\": \"amount\"}\n",
    "            )\n",
    "            df2 = df[[\"sender_name_2\", \"amount_2\"]].rename(\n",
    "                columns={\"sender_name_2\": \"sender_name\", \"amount_2\": \"amount\"}\n",
    "            )\n",
    "\n",
    "        elif len(df.columns) == 6:\n",
    "            df = df.iloc[:, :6]\n",
    "            df.columns = [\n",
    "                \"code_type\",\n",
    "                \"code_number\",\n",
    "                \"sender_name_1\",\n",
    "                \"amount_1\",\n",
    "                \"sender_name_2\",\n",
    "                \"amount_2\",\n",
    "            ]\n",
    "            df1 = df[[\"code_type\", \"code_number\", \"sender_name_1\", \"amount_1\"]].rename(\n",
    "                columns={\"sender_name_1\": \"sender_name\", \"amount_1\": \"amount\"}\n",
    "            )\n",
    "            df2 = df[[\"sender_name_2\", \"amount_2\"]].rename(\n",
    "                columns={\"sender_name_2\": \"sender_name\", \"amount_2\": \"amount\"}\n",
    "            )\n",
    "\n",
    "    except Exception as e:\n",
    "        print(\"The error is probably due to number of columns is neither 4/5/6\")\n",
    "        print(\"Error in split_dataframe: \", e)\n",
    "        return None, None\n",
    "\n",
    "    return df1.dropna(axis=0, how=\"all\"), df2.dropna(axis=0, how=\"all\")\n",
    "\n",
    "\n",
    "def clean_dataframe(df):\n",
    "    df[\"sender_name\"] = df[\"sender_name\"].fillna(\"\").astype(str)\n",
    "    df.amount = df.amount.abs()\n",
    "    # Suppose df is your DataFrame\n",
    "    df[\"sender_name\"] = df[\"sender_name\"].astype(str)\n",
    "    df.sender_name = df.sender_name.str.strip().str.lower()\n",
    "    return df\n",
    "\n",
    "\n",
    "def extract_clean_name(text):\n",
    "    \"\"\"\n",
    "    Cleans and tokenizes a sender name string by removing currency symbols,\n",
    "    numbers, and splitting on punctuation or whitespace.\n",
    "    \"\"\"\n",
    "    if not isinstance(text, str):\n",
    "        return []\n",
    "\n",
    "    text = re.sub(r\"(R\\$|\\$|USD)?\\s?\\d+(\\.\\d{1,2})?(Buy@\\d+(\\.\\d{1,2})?)?\", \"\", text)\n",
    "    tokens = re.split(r\"[ -+()@,]+\", text.lower())\n",
    "    return [item for item in tokens if item.strip()]\n",
    "\n",
    "\n",
    "# ===================================================\n",
    "# Name Matching Tools\n",
    "# ===================================================\n",
    "\n",
    "\n",
    "def is_name_match_1(tokens1, tokens2):\n",
    "    \"\"\"\n",
    "    Lightweight name match function using substring token comparison.\n",
    "    \"\"\"\n",
    "    global counter1\n",
    "    global counter2\n",
    "\n",
    "    if len(tokens2)==1:\n",
    "        t2 = tokens2[0]\n",
    "        for t1 in tokens1:\n",
    "            if len(t2) > 2 and t2 in t1:\n",
    "                counter2 += 1\n",
    "                return True\n",
    "            else:\n",
    "                pass\n",
    "                # print(\"No match: \", t1, t2)\n",
    "    \n",
    "    elif len(tokens2) > 1:\n",
    "        if all(t2 in tokens1[:2] for t2 in tokens2) and all(len(t2) > 1 for t2 in tokens2):\n",
    "            counter2 += 1\n",
    "            return True\n",
    "\n",
    "    return False\n",
    "\n",
    "def is_name_match_2(tokens1, tokens2):\n",
    "    \"\"\"\n",
    "    Determines if two names are a fuzzy match using token-wise comparison\n",
    "    and fuzzy ratios.\n",
    "    \"\"\"\n",
    "\n",
    "    if not tokens1 or not tokens2:\n",
    "        return False\n",
    "\n",
    "    for t1 in tokens1:\n",
    "        for t2 in tokens2:\n",
    "            if (\n",
    "                fuzz.ratio(t1, t2) >= 80  # Lower the threshold\n",
    "                or fuzz.partial_ratio(t1, t2) >= 80  # Allow partial matches\n",
    "            ) and (len(t1) > 2 and len(t2) > 2):\n",
    "                return True\n",
    "\n",
    "    joined1 = \" \".join(tokens1)\n",
    "    joined2 = \" \".join(tokens2)\n",
    "    return fuzz.token_set_ratio(joined1, joined2) >= 75\n",
    "\n",
    "\n",
    "# ===================================================\n",
    "# Matching Tools\n",
    "# ===================================================\n",
    "\n",
    "\n",
    "# layer 1 of matching\n",
    "def find_unmatched_rows(df1, df2):\n",
    "    \"\"\"\n",
    "    Compares two DataFrames and returns rows from both that have no matching\n",
    "    (amount + name) in the other. Uses a lightweight name match.\n",
    "    \"\"\"\n",
    "    unmatched_df1 = []\n",
    "    unmatched_df2 = []\n",
    "    df2[\"matched\"] = False  # Ensure the column exists and is False by default\n",
    "\n",
    "    for i1, row1 in df1.iterrows():\n",
    "        matched = False\n",
    "        for i2, row2 in df2.iterrows():\n",
    "            if row1[\"amount\"] == row2[\"amount\"]:\n",
    "                tokens1 = extract_clean_name(row1[\"sender_name\"])\n",
    "                tokens2 = extract_clean_name(row2[\"sender_name\"])\n",
    "                if is_name_match_1(tokens1, tokens2):\n",
    "                    matched = True\n",
    "                    df2.at[i2, \"matched\"] = True\n",
    "                    break\n",
    "        if not matched:\n",
    "            unmatched_df1.append(row1)\n",
    "        \n",
    "    for i2, row2 in df2.iterrows():\n",
    "        if not row2.get(\"matched\", False):\n",
    "            unmatched_df2.append(row2)\n",
    "\n",
    "    return pd.DataFrame(unmatched_df1).reset_index(drop=True), pd.DataFrame(unmatched_df2).reset_index(drop=True)\n",
    "\n",
    "\n",
    "# layer 2 of matching\n",
    "def match_names_on_amount(df1, df2):\n",
    "    \"\"\"\n",
    "    Matches rows from two DataFrames based on equal amounts and fuzzy name match.\n",
    "    Returns matched pairs along with unmatched rows from both DataFrames.\n",
    "    \"\"\"\n",
    "    matched_rows = []\n",
    "    matched_indices_df1 = set()\n",
    "    matched_indices_df2 = set()\n",
    "\n",
    "    for i, row1 in df1.iterrows():\n",
    "        amount1 = row1[\"amount\"]\n",
    "        name1 = row1[\"sender_name\"]\n",
    "\n",
    "        matching_df2 = df2[df2[\"amount\"] == amount1]\n",
    "        if not isinstance(name1, str):\n",
    "            return False\n",
    "        tokens1 = extract_clean_name(name1)\n",
    "\n",
    "        for j, row2 in matching_df2.iterrows():\n",
    "            name2 = row2[\"sender_name\"]\n",
    "            if not isinstance(name2, str):\n",
    "                return False\n",
    "            tokens2 = extract_clean_name(name2)\n",
    "\n",
    "            if is_name_match_2(tokens1, tokens2):\n",
    "                matched_rows.append(\n",
    "                    {\n",
    "                        \"df1_index\": i,\n",
    "                        \"df1_name\": name1,\n",
    "                        \"df1_amount\": amount1,\n",
    "                        \"df2_index\": j,\n",
    "                        \"df2_name\": name2,\n",
    "                        \"df2_amount\": row2[\"amount\"],\n",
    "                    }\n",
    "                )\n",
    "                matched_indices_df1.add(i)\n",
    "                matched_indices_df2.add(j)\n",
    "                break  # one-to-one match\n",
    "\n",
    "    matched_df = pd.DataFrame(matched_rows)\n",
    "    unmatched_df1 = df1[~df1.index.isin(matched_indices_df1)].copy()\n",
    "    unmatched_df2 = df2[~df2.index.isin(matched_indices_df2)].copy()\n",
    "\n",
    "    return matched_df, unmatched_df1, unmatched_df2"
   ]
  },
  {
   "cell_type": "code",
   "execution_count": 45,
   "id": "ea15dd6f",
   "metadata": {},
   "outputs": [
    {
     "name": "stdout",
     "output_type": "stream",
     "text": [
      "counter1:  0\n",
      "counter2:  237\n",
      "                                     sender_name     amount\n",
      "0                    csv promocao de vendas ltda  117454.36\n",
      "1                         priscila franz kreusch     675.00\n",
      "2                             johny dias scalcon     470.00\n",
      "3                          nicolas silva de deus    5750.00\n",
      "4                                      ali waked   11125.00\n",
      "5                      globo das utilidades ltda    4000.00\n",
      "6              h j e zein celular e eletronic...    9000.00\n",
      "7                          josiele kenia barbosa    1023.00\n",
      "8           mi amozanas comercio de equipamentos   10000.00\n",
      "9                         drobenche imports ltda    3550.00\n",
      "10                       wannesa da silva dantas    8250.00\n",
      "11                   jhonatas dos santos barbosa    5529.00\n",
      "12                a e s comercio e servicos ltda    4500.00\n",
      "13                a e s comercio e servicos ltda    4500.00\n",
      "14        ac eletronicos acessorios e pecas ltda    4000.00\n",
      "15          mi amozanas comercio de equipamentos   10000.00\n",
      "16  top celulares/hh importacao e celulares ltda    1500.00\n",
      "\n",
      "        sender_name     amount\n",
      "0             csv p  117454.36\n",
      "1           pricila     675.00\n",
      "2            johnny     470.00\n",
      "3          nicholas    5750.00\n",
      "4             ali w   11125.00\n",
      "5            global    4000.00\n",
      "6             h j e    9000.00\n",
      "7          josielle    1023.00\n",
      "8   hbc equipamento   10000.00\n",
      "9        drobeniche    3550.00\n",
      "10         wannessa    8250.00\n",
      "11         jhonatan    5529.00\n",
      "12   a & s comercio    4500.00\n",
      "13   a & s comercio    4500.00\n",
      "14  ac electronicos    4000.00\n",
      "15  hbc equipamento   10000.00\n",
      "16    hh importacao    1500.00\n",
      "\n"
     ]
    }
   ],
   "source": [
    "# ===================================================\n",
    "# Main Function\n",
    "# ===================================================\n",
    "\"\"\"\n",
    "Main function to load, clean, and match transaction data from Excel file.\n",
    "Returns:\n",
    "    matched_df: Matched transactions between df1 and df2.\n",
    "    unmatched_df1: Transactions from df1 with no match.\n",
    "    unmatched_df2: Transactions from df2 with no match.\n",
    "\"\"\"\n",
    "# excel_path = r\"../excel_data\\table_test.xlsx\"\n",
    "excel_path = r\"../excel_data\\table.xlsx\"\n",
    "# excel_path = r'../'\n",
    "\n",
    "\n",
    "file_type = excel_path.split(\".\")[-1]\n",
    "\n",
    "if file_type == \"xls\":\n",
    "    df = pd.read_excel(excel_path, engine=\"xlrd\")\n",
    "else:\n",
    "    df = pd.read_excel(excel_path)\n",
    "\n",
    "# Split and clean\n",
    "df1, df2 = split_dataframe(df)\n",
    "df1 = clean_dataframe(df1)\n",
    "df2 = clean_dataframe(df2)\n",
    "\n",
    "# Pre-filter unmatched using lightweight comparison\n",
    "unmatched_df1, unmatched_df2 = find_unmatched_rows(df1, df2)\n",
    "\n",
    "# Run full fuzzy matching\n",
    "matched_df, unmatched_df1, unmatched_df2 = match_names_on_amount(\n",
    "    unmatched_df1,\n",
    "    unmatched_df2,\n",
    ")\n",
    "\n",
    "# Final cleanup\n",
    "matched_df = matched_df.drop(columns=[\"df1_index\", \"df2_index\"], errors=\"ignore\")\n",
    "matched_df1, matched_df2 = split_dataframe(matched_df)\n",
    "if \"matched\" in unmatched_df2.columns:\n",
    "    unmatched_df2 = unmatched_df2.drop(\"matched\", axis=1)\n",
    "\n",
    "print(\"counter1: \", counter1)\n",
    "print(\"counter2: \", counter2)\n",
    "\n",
    "print(matched_df1)\n",
    "print()\n",
    "print(matched_df2)\n",
    "print()"
   ]
  },
  {
   "cell_type": "code",
   "execution_count": 47,
   "id": "547cd6ce",
   "metadata": {},
   "outputs": [
    {
     "name": "stdout",
     "output_type": "stream",
     "text": [
      "                                sender_name     amount\n",
      "7                    matheus henrique borin    7000.00\n",
      "11                     princesas das fibras    1800.00\n",
      "14                              a veronezzi     130.00\n",
      "15                     iago lins cavalcanti    5000.00\n",
      "18              marlene marobin 04721641982     772.00\n",
      "19                tabacaria el patrono ltda    5900.00\n",
      "20                     a t p funeraria ltda    1000.00\n",
      "21                            mohamad awala   26000.00\n",
      "22               francisco carlito silveira    2100.00\n",
      "23                             ibrahim harb    5000.00\n",
      "24                   santiago comercio ltda   11882.00\n",
      "26                     k b silva dos santos    6000.00\n",
      "28  macel imports / loja j m s imports ltda    1200.00\n",
      "29                           r f dos santos   20003.95\n",
      "31             aldonei coitinho de castilho    1830.00\n",
      "32                                    kinxt     700.00\n",
      "33                                     foul  118511.95\n",
      "34                                   cohiba   16997.00\n",
      "(18, 2)\n",
      "\n",
      "       sender_name     amount\n",
      "0         anderson    1000.00\n",
      "1            fabio    5900.00\n",
      "2          e d a s   11882.00\n",
      "3               ad    4000.00\n",
      "5             gian    2000.00\n",
      "6           rafael   20003.95\n",
      "7               ms    1200.00\n",
      "9             foul  122816.95\n",
      "10          cohiba   16977.00\n",
      "11  a & s comercio    4500.00\n",
      "12     mi amazonas   10000.00\n",
      "13  a & s comercio    4500.00\n",
      "14            lago    5000.00\n",
      "15           kairo    6000.00\n",
      "16           jorge    2100.00\n",
      "19       ademilson     130.00\n",
      "22         afranio    1800.00\n",
      "25           cesar   11000.00\n",
      "26     mi amazonas   10000.00\n",
      "30        vinicius    1350.00\n",
      "(20, 2)\n"
     ]
    }
   ],
   "source": [
    "print(unmatched_df1)\n",
    "print(unmatched_df1.shape)\n",
    "print()\n",
    "print(unmatched_df2)\n",
    "print(unmatched_df2.shape)"
   ]
  },
  {
   "cell_type": "code",
   "execution_count": 30,
   "id": "43c8a059",
   "metadata": {},
   "outputs": [
    {
     "data": {
      "application/vnd.microsoft.datawrangler.viewer.v0+json": {
       "columns": [
        {
         "name": "index",
         "rawType": "int64",
         "type": "integer"
        },
        {
         "name": "sender_name",
         "rawType": "object",
         "type": "string"
        },
        {
         "name": "amount",
         "rawType": "float64",
         "type": "float"
        }
       ],
       "conversionMethod": "pd.DataFrame",
       "ref": "3e9021c3-504a-4cdb-a5dc-1ecb7c8bc671",
       "rows": [
        [
         "0",
         "matheus aparecido da silva oliveira",
         "3320.0"
        ],
        [
         "1",
         "lucas giehl carvalheiro",
         "409.45"
        ],
        [
         "2",
         "leandro phones ltda",
         "2230.0"
        ],
        [
         "3",
         "csv promocao de vendas ltda",
         "117454.36"
        ],
        [
         "4",
         "ms parts",
         "1000.0"
        ],
        [
         "5",
         "cesar cell",
         "15000.0"
        ],
        [
         "6",
         "ivone nunes barbosa",
         "2000.0"
        ],
        [
         "7",
         "marlene marobin -",
         "399.99"
        ],
        [
         "8",
         "pedro henrique curty paiva",
         "3575.0"
        ],
        [
         "9",
         "villacell ltda",
         "687.46"
        ],
        [
         "10",
         "leonardo lucas benicio",
         "924.6"
        ],
        [
         "11",
         "priscila franz kreusch",
         "675.0"
        ],
        [
         "12",
         "jonata probsky",
         "560.0"
        ],
        [
         "13",
         "johnny dias scalcon",
         "57.0"
        ],
        [
         "14",
         "johny dias scalcon",
         "470.0"
        ],
        [
         "15",
         "nessler assistencia tecnica",
         "300.0"
        ],
        [
         "16",
         "alessandro jacqueles de almeida",
         "500.0"
        ],
        [
         "17",
         "gilberto luiz baumer",
         "959.5"
        ],
        [
         "18",
         "paradise comercio e serv ltda",
         "735.0"
        ],
        [
         "19",
         "eliney roberto parronchi",
         "474.0"
        ],
        [
         "20",
         "hussein mohamad mansour",
         "7700.0"
        ],
        [
         "21",
         "luana pilonetto",
         "1875.0"
        ],
        [
         "22",
         "comercio easystore eletronicos ltda",
         "5500.0"
        ],
        [
         "23",
         "maria lucia franzon spuner",
         "13000.0"
        ],
        [
         "24",
         "vinicius borges flavio",
         "1350.0"
        ],
        [
         "25",
         "marcelo santini assessoria",
         "5575.0"
        ],
        [
         "26",
         "bruno dos passos pergens",
         "2450.0"
        ],
        [
         "27",
         "vinicius borges flavio",
         "1350.0"
        ],
        [
         "28",
         "fs central laser ltda",
         "5970.0"
        ],
        [
         "29",
         "wesnito bernardo silva",
         "4994.0"
        ],
        [
         "30",
         "comercio easystore eletronicos ltda",
         "10500.0"
        ],
        [
         "31",
         "nicolas silva de deus",
         "5750.0"
        ],
        [
         "32",
         "pradocell ltda",
         "305.0"
        ],
        [
         "33",
         "alessandra cristina de oliveira pereira r",
         "3000.0"
        ],
        [
         "34",
         "amanda pereira gomes da fonseca",
         "7000.0"
        ],
        [
         "35",
         "comercio easystore eletronicos ltda",
         "12900.0"
        ],
        [
         "36",
         "shhourie comercio ltda",
         "13455.0"
        ],
        [
         "37",
         "maria aparecida machado da fonseca 99354",
         "2200.0"
        ],
        [
         "38",
         "rafael de campos rampazzo me",
         "3280.0"
        ],
        [
         "39",
         "ali waked",
         "11125.0"
        ],
        [
         "40",
         "jonathan maurilio teixeira",
         "17937.0"
        ],
        [
         "41",
         "leonardo fernandes de oliveira",
         "1750.0"
        ],
        [
         "42",
         "fernando luiz belaver",
         "205.0"
        ],
        [
         "43",
         "samia kelly xavier lima",
         "5100.0"
        ],
        [
         "44",
         "marcos antonio dilva doria",
         "18200.0"
        ],
        [
         "45",
         "cleiton deleon de oliveira",
         "1487.0"
        ],
        [
         "46",
         "tech felipe ltda",
         "2142.0"
        ],
        [
         "47",
         "tech felipe ltda",
         "3058.3"
        ],
        [
         "48",
         "andrew silva les",
         "3500.0"
        ],
        [
         "49",
         "globo das utilidades ltda",
         "4000.0"
        ]
       ],
       "shape": {
        "columns": 2,
        "rows": 272
       }
      },
      "text/html": [
       "<div>\n",
       "<style scoped>\n",
       "    .dataframe tbody tr th:only-of-type {\n",
       "        vertical-align: middle;\n",
       "    }\n",
       "\n",
       "    .dataframe tbody tr th {\n",
       "        vertical-align: top;\n",
       "    }\n",
       "\n",
       "    .dataframe thead th {\n",
       "        text-align: right;\n",
       "    }\n",
       "</style>\n",
       "<table border=\"1\" class=\"dataframe\">\n",
       "  <thead>\n",
       "    <tr style=\"text-align: right;\">\n",
       "      <th></th>\n",
       "      <th>sender_name</th>\n",
       "      <th>amount</th>\n",
       "    </tr>\n",
       "  </thead>\n",
       "  <tbody>\n",
       "    <tr>\n",
       "      <th>0</th>\n",
       "      <td>matheus aparecido da silva oliveira</td>\n",
       "      <td>3320.00</td>\n",
       "    </tr>\n",
       "    <tr>\n",
       "      <th>1</th>\n",
       "      <td>lucas giehl carvalheiro</td>\n",
       "      <td>409.45</td>\n",
       "    </tr>\n",
       "    <tr>\n",
       "      <th>2</th>\n",
       "      <td>leandro phones ltda</td>\n",
       "      <td>2230.00</td>\n",
       "    </tr>\n",
       "    <tr>\n",
       "      <th>3</th>\n",
       "      <td>csv promocao de vendas ltda</td>\n",
       "      <td>117454.36</td>\n",
       "    </tr>\n",
       "    <tr>\n",
       "      <th>4</th>\n",
       "      <td>ms parts</td>\n",
       "      <td>1000.00</td>\n",
       "    </tr>\n",
       "    <tr>\n",
       "      <th>...</th>\n",
       "      <td>...</td>\n",
       "      <td>...</td>\n",
       "    </tr>\n",
       "    <tr>\n",
       "      <th>267</th>\n",
       "      <td>foul</td>\n",
       "      <td>118511.95</td>\n",
       "    </tr>\n",
       "    <tr>\n",
       "      <th>268</th>\n",
       "      <td>cohiba</td>\n",
       "      <td>14900.00</td>\n",
       "    </tr>\n",
       "    <tr>\n",
       "      <th>269</th>\n",
       "      <td>cohiba</td>\n",
       "      <td>16997.00</td>\n",
       "    </tr>\n",
       "    <tr>\n",
       "      <th>270</th>\n",
       "      <td>charuto sub1</td>\n",
       "      <td>177320.00</td>\n",
       "    </tr>\n",
       "    <tr>\n",
       "      <th>271</th>\n",
       "      <td>charuto sub1</td>\n",
       "      <td>27750.00</td>\n",
       "    </tr>\n",
       "  </tbody>\n",
       "</table>\n",
       "<p>272 rows × 2 columns</p>\n",
       "</div>"
      ],
      "text/plain": [
       "                             sender_name     amount\n",
       "0    matheus aparecido da silva oliveira    3320.00\n",
       "1                lucas giehl carvalheiro     409.45\n",
       "2                    leandro phones ltda    2230.00\n",
       "3            csv promocao de vendas ltda  117454.36\n",
       "4                               ms parts    1000.00\n",
       "..                                   ...        ...\n",
       "267                                 foul  118511.95\n",
       "268                               cohiba   14900.00\n",
       "269                               cohiba   16997.00\n",
       "270                         charuto sub1  177320.00\n",
       "271                         charuto sub1   27750.00\n",
       "\n",
       "[272 rows x 2 columns]"
      ]
     },
     "execution_count": 30,
     "metadata": {},
     "output_type": "execute_result"
    }
   ],
   "source": [
    "df1"
   ]
  },
  {
   "cell_type": "code",
   "execution_count": 14,
   "id": "a35606f1",
   "metadata": {},
   "outputs": [
    {
     "data": {
      "application/vnd.microsoft.datawrangler.viewer.v0+json": {
       "columns": [
        {
         "name": "index",
         "rawType": "int64",
         "type": "integer"
        },
        {
         "name": "  TRK+DEBORA",
         "rawType": "object",
         "type": "unknown"
        },
        {
         "name": "-40",
         "rawType": "float64",
         "type": "float"
        },
        {
         "name": "DEBORA",
         "rawType": "object",
         "type": "unknown"
        },
        {
         "name": "40",
         "rawType": "float64",
         "type": "float"
        }
       ],
       "conversionMethod": "pd.DataFrame",
       "ref": "850e0b00-cc7b-4b44-b2f8-30711b2fefec",
       "rows": [
        [
         "94",
         " R$ 22919.40Buy@5.93   TRKBIT-MIXCELL  (USD 3864.99Buy@5.93)",
         "-22919.4",
         "MIXCELL",
         "22919.4"
        ],
        [
         "95",
         null,
         null,
         null,
         null
        ],
        [
         "96",
         null,
         null,
         "KINXT",
         "35074.65"
        ],
        [
         "97",
         null,
         null,
         "FOUL",
         "145208.18"
        ],
        [
         "98",
         null,
         null,
         "CHARUTO",
         "167540.0"
        ]
       ],
       "shape": {
        "columns": 4,
        "rows": 5
       }
      },
      "text/html": [
       "<div>\n",
       "<style scoped>\n",
       "    .dataframe tbody tr th:only-of-type {\n",
       "        vertical-align: middle;\n",
       "    }\n",
       "\n",
       "    .dataframe tbody tr th {\n",
       "        vertical-align: top;\n",
       "    }\n",
       "\n",
       "    .dataframe thead th {\n",
       "        text-align: right;\n",
       "    }\n",
       "</style>\n",
       "<table border=\"1\" class=\"dataframe\">\n",
       "  <thead>\n",
       "    <tr style=\"text-align: right;\">\n",
       "      <th></th>\n",
       "      <th>TRK+DEBORA</th>\n",
       "      <th>-40</th>\n",
       "      <th>DEBORA</th>\n",
       "      <th>40</th>\n",
       "    </tr>\n",
       "  </thead>\n",
       "  <tbody>\n",
       "    <tr>\n",
       "      <th>94</th>\n",
       "      <td>R$ 22919.40Buy@5.93   TRKBIT-MIXCELL  (USD 38...</td>\n",
       "      <td>-22919.4</td>\n",
       "      <td>MIXCELL</td>\n",
       "      <td>22919.40</td>\n",
       "    </tr>\n",
       "    <tr>\n",
       "      <th>95</th>\n",
       "      <td>NaN</td>\n",
       "      <td>NaN</td>\n",
       "      <td>NaN</td>\n",
       "      <td>NaN</td>\n",
       "    </tr>\n",
       "    <tr>\n",
       "      <th>96</th>\n",
       "      <td>NaN</td>\n",
       "      <td>NaN</td>\n",
       "      <td>KINXT</td>\n",
       "      <td>35074.65</td>\n",
       "    </tr>\n",
       "    <tr>\n",
       "      <th>97</th>\n",
       "      <td>NaN</td>\n",
       "      <td>NaN</td>\n",
       "      <td>FOUL</td>\n",
       "      <td>145208.18</td>\n",
       "    </tr>\n",
       "    <tr>\n",
       "      <th>98</th>\n",
       "      <td>NaN</td>\n",
       "      <td>NaN</td>\n",
       "      <td>CHARUTO</td>\n",
       "      <td>167540.00</td>\n",
       "    </tr>\n",
       "  </tbody>\n",
       "</table>\n",
       "</div>"
      ],
      "text/plain": [
       "                                           TRK+DEBORA      -40   DEBORA  \\\n",
       "94   R$ 22919.40Buy@5.93   TRKBIT-MIXCELL  (USD 38... -22919.4  MIXCELL   \n",
       "95                                                NaN      NaN      NaN   \n",
       "96                                                NaN      NaN    KINXT   \n",
       "97                                                NaN      NaN     FOUL   \n",
       "98                                                NaN      NaN  CHARUTO   \n",
       "\n",
       "           40  \n",
       "94   22919.40  \n",
       "95        NaN  \n",
       "96   35074.65  \n",
       "97  145208.18  \n",
       "98  167540.00  "
      ]
     },
     "execution_count": 14,
     "metadata": {},
     "output_type": "execute_result"
    }
   ],
   "source": [
    "df.tail()"
   ]
  },
  {
   "cell_type": "code",
   "execution_count": null,
   "id": "b132e55a",
   "metadata": {},
   "outputs": [],
   "source": []
  }
 ],
 "metadata": {
  "kernelspec": {
   "display_name": "base",
   "language": "python",
   "name": "python3"
  },
  "language_info": {
   "codemirror_mode": {
    "name": "ipython",
    "version": 3
   },
   "file_extension": ".py",
   "mimetype": "text/x-python",
   "name": "python",
   "nbconvert_exporter": "python",
   "pygments_lexer": "ipython3",
   "version": "3.10.12"
  }
 },
 "nbformat": 4,
 "nbformat_minor": 5
}
